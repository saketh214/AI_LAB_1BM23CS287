{
 "cells": [
  {
   "cell_type": "code",
   "execution_count": 1,
   "id": "4d291da7-4a2c-42b6-b906-f395d9ce3878",
   "metadata": {},
   "outputs": [
    {
     "name": "stdout",
     "output_type": "stream",
     "text": [
      "\n",
      "Current State: [3, 1, 2, 0], Cost: 2\n",
      "Evaluating neighbors:\n",
      " Swap (0, 1): State [1, 3, 2, 0], Cost 1\n",
      " Swap (0, 2): State [2, 1, 3, 0], Cost 1\n",
      " Swap (0, 3): State [0, 1, 2, 3], Cost 6\n",
      " Swap (1, 2): State [3, 2, 1, 0], Cost 6\n",
      " Swap (1, 3): State [3, 0, 2, 1], Cost 1\n",
      " Swap (2, 3): State [3, 1, 0, 2], Cost 1\n",
      "Chosen Best Neighbor: Swap (0, 1), State [1, 3, 2, 0], Cost 1\n",
      "\n",
      "Current State: [1, 3, 2, 0], Cost: 1\n",
      "Evaluating neighbors:\n",
      " Swap (0, 1): State [3, 1, 2, 0], Cost 2\n",
      " Swap (0, 2): State [2, 3, 1, 0], Cost 2\n",
      " Swap (0, 3): State [0, 3, 2, 1], Cost 4\n",
      " Swap (1, 2): State [1, 2, 3, 0], Cost 4\n",
      " Swap (1, 3): State [1, 0, 2, 3], Cost 2\n",
      " Swap (2, 3): State [1, 3, 0, 2], Cost 0\n",
      "Chosen Best Neighbor: Swap (2, 3), State [1, 3, 0, 2], Cost 0\n",
      "\n",
      "Current State: [1, 3, 0, 2], Cost: 0\n",
      "\n",
      "Final Solution: [1, 3, 0, 2] with Cost: 0\n"
     ]
    }
   ],
   "source": [
    "def heuristic(state):\n",
    "    n = len(state)\n",
    "    attacks = 0\n",
    "    for i in range(n):\n",
    "        for j in range(i+1, n):\n",
    "            if state[i] == state[j]:\n",
    "                attacks += 1\n",
    "            if abs(state[i]-state[j]) == abs(i-j):\n",
    "                attacks += 1\n",
    "    return attacks\n",
    "\n",
    "def get_neighbors_by_swap(state):\n",
    "    neighbors = []\n",
    "    n = len(state)\n",
    "    for i in range(n-1):\n",
    "        for j in range(i+1, n):\n",
    "            neighbor = state.copy()\n",
    "            neighbor[i], neighbor[j] = neighbor[j], neighbor[i]\n",
    "            neighbors.append((neighbor, (i,j)))\n",
    "    return neighbors\n",
    "\n",
    "def hill_climbing_swaps(start_state):\n",
    "    current = start_state\n",
    "    while True:\n",
    "        current_h = heuristic(current)\n",
    "        print(f\"\\nCurrent State: {current}, Cost: {current_h}\")\n",
    "\n",
    "        if current_h == 0:\n",
    "            break\n",
    "\n",
    "        neighbors = get_neighbors_by_swap(current)\n",
    "        best = current\n",
    "        best_h = current_h\n",
    "        best_swap = (float('inf'), float('inf'))\n",
    "\n",
    "        print(\"Evaluating neighbors:\")\n",
    "        for n_state, swap in neighbors:\n",
    "            h = heuristic(n_state)\n",
    "            print(f\" Swap {swap}: State {n_state}, Cost {h}\")\n",
    "            if h < best_h or (h == best_h and swap < best_swap):\n",
    "                best = n_state\n",
    "                best_h = h\n",
    "                best_swap = swap\n",
    "\n",
    "        if best_h < current_h:\n",
    "            print(f\"Chosen Best Neighbor: Swap {best_swap}, State {best}, Cost {best_h}\")\n",
    "            current = best\n",
    "        else:\n",
    "            print(\"No better neighbor found. Reached local optimum.\")\n",
    "            break\n",
    "\n",
    "    return current, heuristic(current)\n",
    "\n",
    "initial_state = [3,1,2,0]\n",
    "solution, h_val = hill_climbing_swaps(initial_state)\n",
    "print(\"\\nFinal Solution:\", solution, \"with Cost:\", h_val)\n"
   ]
  },
  {
   "cell_type": "code",
   "execution_count": null,
   "id": "9c1ea968-882e-400d-b8b1-61012360c58e",
   "metadata": {},
   "outputs": [],
   "source": []
  }
 ],
 "metadata": {
  "kernelspec": {
   "display_name": "Python [conda env:base] *",
   "language": "python",
   "name": "conda-base-py"
  },
  "language_info": {
   "codemirror_mode": {
    "name": "ipython",
    "version": 3
   },
   "file_extension": ".py",
   "mimetype": "text/x-python",
   "name": "python",
   "nbconvert_exporter": "python",
   "pygments_lexer": "ipython3",
   "version": "3.12.7"
  }
 },
 "nbformat": 4,
 "nbformat_minor": 5
}
